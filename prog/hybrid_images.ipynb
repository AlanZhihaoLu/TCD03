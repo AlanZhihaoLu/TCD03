{
 "cells": [
  {
   "cell_type": "code",
   "execution_count": 1,
   "id": "monthly-passport",
   "metadata": {},
   "outputs": [],
   "source": [
    "import os\n",
    "import tkinter\n",
    "from tkinter import filedialog\n",
    "import numpy as np\n",
    "from numpy.fft import fft2, ifft2, fftshift, ifftshift\n",
    "from scipy import misc\n",
    "from scipy import ndimage\n",
    "import cv2\n",
    "import math"
   ]
  },
  {
   "cell_type": "code",
   "execution_count": 2,
   "id": "bulgarian-clearance",
   "metadata": {},
   "outputs": [],
   "source": [
    "# Define functions here\n",
    "def search_for_file_path(prompt):\n",
    "\n",
    "    root = tkinter.Tk()\n",
    "    root.withdraw()  # use to hide tkinter window\n",
    "    currdir = os.getcwd()\n",
    "    file_dir = filedialog.askdirectory(\n",
    "        parent=root,\n",
    "        initialdir=currdir,\n",
    "        title=prompt,\n",
    "        mustexist=True,\n",
    "    )\n",
    "\n",
    "    return file_dir"
   ]
  },
  {
   "cell_type": "code",
   "execution_count": 3,
   "id": "mexican-satin",
   "metadata": {},
   "outputs": [],
   "source": [
    "img_dir = search_for_file_path('Select Images Folder')"
   ]
  },
  {
   "cell_type": "code",
   "execution_count": 4,
   "id": "domestic-bridal",
   "metadata": {},
   "outputs": [],
   "source": [
    "imgs = os.listdir(img_dir)"
   ]
  },
  {
   "cell_type": "code",
   "execution_count": 5,
   "id": "alternate-green",
   "metadata": {},
   "outputs": [],
   "source": [
    "atticRoom = cv2.imread(os.path.join(img_dir, imgs[0]),0)\n",
    "bathroom = cv2.imread(os.path.join(img_dir, imgs[1]),0)"
   ]
  },
  {
   "cell_type": "code",
   "execution_count": 6,
   "id": "whole-sculpture",
   "metadata": {},
   "outputs": [],
   "source": [
    "def show_image(input_image):\n",
    "    cv2.imshow('Displaying Image...', input_image)\n",
    "    cv2.waitKey(0) \n",
    "    cv2.destroyAllWindows() "
   ]
  },
  {
   "cell_type": "code",
   "execution_count": 9,
   "id": "boring-roulette",
   "metadata": {},
   "outputs": [],
   "source": [
    "# define image parameters\n",
    "n,m = np.shape(atticRoom)\n",
    "numRows = n\n",
    "numCols = m\n",
    "\n",
    "# Calculate gaussian filter sigma by cycles/image cutoff (when amplitude gain = 0.5)\n",
    "def gaussian_filter_sigma(cycles_per_img_cutoff, amplitude_gain=0.5):\n",
    "    numer = -1.0*(cycles_per_img_cutoff**2)\n",
    "    denom = 2 * np.log(amplitude_gain)\n",
    "    return math.sqrt(numer/denom)\n",
    "\n",
    "sigma8 = gaussian_filter_sigma(8)\n",
    "sigma16 = gaussian_filter_sigma(16)\n",
    "sigma24 = gaussian_filter_sigma(24)"
   ]
  },
  {
   "cell_type": "code",
   "execution_count": 14,
   "id": "floppy-geology",
   "metadata": {},
   "outputs": [],
   "source": [
    "# gaussian filter (in fourier space)\n",
    "def makeGaussianFilter(numRows, numCols, sigma, highPass=True):\n",
    "    centerI = int(numRows/2) + 1 if numRows % 2 == 1 else int(numRows/2)\n",
    "    centerJ = int(numCols/2) + 1 if numCols % 2 == 1 else int(numCols/2)\n",
    "    def gaussian(i,j):\n",
    "        coefficient = math.exp(-1.0 * ((i - centerI)**2 + (j - centerJ)**2) / (2 * sigma**2))\n",
    "        return 1 - coefficient if highPass else coefficient\n",
    " \n",
    "    return np.array([[gaussian(i,j) for j in range(numCols)] for i in range(numRows)])"
   ]
  },
  {
   "cell_type": "code",
   "execution_count": 15,
   "id": "existing-italic",
   "metadata": {},
   "outputs": [],
   "source": [
    "def filterDFT(imageMatrix, filterMatrix):\n",
    "    shiftedDFT = fftshift(fft2(imageMatrix))\n",
    "    filteredDFT = shiftedDFT * filterMatrix\n",
    "    return ifft2(ifftshift(filteredDFT))"
   ]
  },
  {
   "cell_type": "code",
   "execution_count": 73,
   "id": "black-special",
   "metadata": {},
   "outputs": [],
   "source": [
    "highPassed = filterDFT(bathroom, makeGaussianFilter(n, m, sigma24, True))\n",
    "lowPassed = filterDFT(atticRoom, makeGaussianFilter(n, m, sigma8, False))"
   ]
  },
  {
   "cell_type": "code",
   "execution_count": null,
   "id": "anonymous-environment",
   "metadata": {},
   "outputs": [],
   "source": [
    "## This outputs a really dark image -- potential issue?\n",
    "cv2.imwrite('test24.png', abs(highPassed))"
   ]
  },
  {
   "cell_type": "code",
   "execution_count": null,
   "id": "adult-makeup",
   "metadata": {},
   "outputs": [],
   "source": [
    "## Output looks decent, but still very dark\n",
    "cv2.imwrite('hybrid.png', abs((highPassed+lowPassed)/2.0))"
   ]
  },
  {
   "cell_type": "code",
   "execution_count": 26,
   "id": "cubic-showcase",
   "metadata": {},
   "outputs": [],
   "source": [
    "# Although defined here, this function isn't used\n",
    "def hybridImage(highFreqImg, lowFreqImg, sigmaHigh, sigmaLow):\n",
    "    highPassed = highPass(highFreqImg, sigmaHigh)\n",
    "    lowPassed = lowPass(lowFreqImg, sigmaLow)\n",
    "    return highPassed + lowPassed"
   ]
  },
  {
   "cell_type": "markdown",
   "id": "amateur-chart",
   "metadata": {},
   "source": [
    "## Everything below here is just me fiddling with stuff ##"
   ]
  },
  {
   "cell_type": "code",
   "execution_count": null,
   "id": "rapid-double",
   "metadata": {},
   "outputs": [],
   "source": [
    "fourier_filter = makeGaussianFilter(n, m, sigma24, True)\n",
    "np.shape(fftshift(fft2(atticRoom)))"
   ]
  },
  {
   "cell_type": "code",
   "execution_count": 67,
   "id": "local-announcement",
   "metadata": {},
   "outputs": [],
   "source": [
    "uint_img = np.array(abs(highPassed)).astype('uint8')\n",
    "grayImage = cv2.cvtColor(uint_img, cv2.COLOR_GRAY2BGR)"
   ]
  },
  {
   "cell_type": "code",
   "execution_count": 65,
   "id": "ranging-flexibility",
   "metadata": {},
   "outputs": [],
   "source": [
    "def convert_to_gray(img_mat):\n",
    "    img_mat = img_mat/np.max(img_mat)\n",
    "    uint_img = np.array(img_mat*255).astype('uint8')\n",
    "    grayImage = cv2.cvtColor(uint_img, cv2.COLOR_GRAY2BGR)\n",
    "    return grayImage"
   ]
  },
  {
   "cell_type": "code",
   "execution_count": null,
   "id": "imperial-effectiveness",
   "metadata": {},
   "outputs": [],
   "source": [
    "cv2.imwrite('notgrayImage.png', abs(highPassed))"
   ]
  },
  {
   "cell_type": "code",
   "execution_count": 78,
   "id": "friendly-month",
   "metadata": {},
   "outputs": [],
   "source": [
    "test = filterDFT(bathroom, makeGaussianFilter(n, m, 100, True))\n",
    "show_image(convert_to_gray(abs(test/(1024*768))))"
   ]
  },
  {
   "cell_type": "code",
   "execution_count": null,
   "id": "continued-booth",
   "metadata": {},
   "outputs": [],
   "source": []
  }
 ],
 "metadata": {
  "kernelspec": {
   "display_name": "Python 3",
   "language": "python",
   "name": "python3"
  },
  "language_info": {
   "codemirror_mode": {
    "name": "ipython",
    "version": 3
   },
   "file_extension": ".py",
   "mimetype": "text/x-python",
   "name": "python",
   "nbconvert_exporter": "python",
   "pygments_lexer": "ipython3",
   "version": "3.9.1"
  }
 },
 "nbformat": 4,
 "nbformat_minor": 5
}
