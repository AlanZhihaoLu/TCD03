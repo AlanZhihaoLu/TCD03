{
 "cells": [
  {
   "cell_type": "code",
   "execution_count": 1,
   "id": "a76ded7c-9966-4383-a38f-5a516e6a2ebd",
   "metadata": {},
   "outputs": [],
   "source": [
    "import os\n",
    "import tkinter\n",
    "from tkinter import filedialog\n",
    "import numpy as np\n",
    "from numpy.fft import fft2, ifft2, fftshift, ifftshift\n",
    "from scipy import misc\n",
    "from scipy import ndimage\n",
    "import cv2\n",
    "import math"
   ]
  },
  {
   "cell_type": "code",
   "execution_count": 2,
   "id": "46a7c6f0-d0c2-49a2-9b2b-de324d299754",
   "metadata": {},
   "outputs": [],
   "source": [
    "# Define functions here\n",
    "def search_for_file_path(prompt):\n",
    "\n",
    "    root = tkinter.Tk()\n",
    "    root.withdraw()  # use to hide tkinter window\n",
    "    currdir = os.getcwd()\n",
    "    file_dir = filedialog.askdirectory(\n",
    "        parent=root,\n",
    "        initialdir=currdir,\n",
    "        title=prompt,\n",
    "        mustexist=True,\n",
    "    )\n",
    "\n",
    "    return file_dir"
   ]
  },
  {
   "cell_type": "code",
   "execution_count": 3,
   "id": "028d124a-bd41-45c9-a2e9-c4e6cfcc95a9",
   "metadata": {},
   "outputs": [],
   "source": [
    "img_dir = search_for_file_path('Select Images Folder')"
   ]
  },
  {
   "cell_type": "code",
   "execution_count": 4,
   "id": "3351cc57-72ec-4024-9229-1addd4f67b29",
   "metadata": {},
   "outputs": [],
   "source": [
    "imgs = os.listdir(img_dir)"
   ]
  },
  {
   "cell_type": "code",
   "execution_count": 5,
   "id": "6f5771af-309b-48ea-83ee-6ba57c3559b5",
   "metadata": {},
   "outputs": [],
   "source": [
    "atticRoom = cv2.imread(os.path.join(img_dir, imgs[0]),0)\n",
    "bathroom = cv2.imread(os.path.join(img_dir, imgs[1]),0)"
   ]
  },
  {
   "cell_type": "code",
   "execution_count": 6,
   "id": "c837381d-e373-44d1-b535-51d534c5f5a2",
   "metadata": {},
   "outputs": [],
   "source": [
    "def show_image(input_image):\n",
    "    cv2.imshow('Displaying Image...', input_image)\n",
    "    cv2.waitKey(0) \n",
    "    cv2.destroyAllWindows() "
   ]
  },
  {
   "cell_type": "code",
   "execution_count": 9,
   "id": "957b0082-fa1f-4498-af7d-155784968f17",
   "metadata": {},
   "outputs": [],
   "source": [
    "# define image parameters\n",
    "n,m = np.shape(atticRoom)\n",
    "numRows = n\n",
    "numCols = m\n",
    "\n",
    "# Calculate gaussian filter sigma by cycles/image cutoff (when amplitude gain = 0.5)\n",
    "def gaussian_filter_sigma(cycles_per_img_cutoff, amplitude_gain=0.5):\n",
    "    numer = -1.0*(cycles_per_img_cutoff**2)\n",
    "    denom = 2 * np.log(amplitude_gain)\n",
    "    return math.sqrt(numer/denom)\n",
    "\n",
    "sigma8 = gaussian_filter_sigma(8)\n",
    "sigma16 = gaussian_filter_sigma(16)\n",
    "sigma24 = gaussian_filter_sigma(24)"
   ]
  },
  {
   "cell_type": "code",
   "execution_count": 14,
   "id": "af348d27-e33c-4ea1-9159-a776b457d6c3",
   "metadata": {},
   "outputs": [],
   "source": [
    "# gaussian filter (in fourier space)\n",
    "def makeGaussianFilter(numRows, numCols, sigma, highPass=True):\n",
    "    centerI = int(numRows/2) + 1 if numRows % 2 == 1 else int(numRows/2)\n",
    "    centerJ = int(numCols/2) + 1 if numCols % 2 == 1 else int(numCols/2)\n",
    "    def gaussian(i,j):\n",
    "        coefficient = math.exp(-1.0 * ((i - centerI)**2 + (j - centerJ)**2) / (2 * sigma**2))\n",
    "        return 1 - coefficient if highPass else coefficient\n",
    " \n",
    "    return np.array([[gaussian(i,j) for j in range(numCols)] for i in range(numRows)])"
   ]
  },
  {
   "cell_type": "code",
   "execution_count": 15,
   "id": "cf4cb9d8-9f34-4ac2-92fe-9ac7a35198f8",
   "metadata": {},
   "outputs": [],
   "source": [
    "def filterDFT(imageMatrix, filterMatrix):\n",
    "    shiftedDFT = fftshift(fft2(imageMatrix))\n",
    "    filteredDFT = shiftedDFT * filterMatrix\n",
    "    return ifft2(ifftshift(filteredDFT))"
   ]
  },
  {
   "cell_type": "code",
   "execution_count": 26,
   "id": "da64cab0-d8e8-4158-944e-fcc6614b5c49",
   "metadata": {},
   "outputs": [],
   "source": [
    "def hybridImage(highFreqImg, lowFreqImg, sigmaHigh, sigmaLow):\n",
    "    highPassed = highPass(highFreqImg, sigmaHigh)\n",
    "    lowPassed = lowPass(lowFreqImg, sigmaLow)\n",
    "    return highPassed + lowPassed"
   ]
  },
  {
   "cell_type": "code",
   "execution_count": 73,
   "id": "8a6b41f9-a896-4e84-83c8-18b405e8b970",
   "metadata": {},
   "outputs": [],
   "source": [
    "highPassed = filterDFT(bathroom, makeGaussianFilter(n, m, sigma24, True))\n",
    "lowPassed = filterDFT(atticRoom, makeGaussianFilter(n, m, sigma8, False))"
   ]
  },
  {
   "cell_type": "code",
   "execution_count": 74,
   "id": "ce712955-c84a-480a-867f-265b0310b89d",
   "metadata": {},
   "outputs": [
    {
     "data": {
      "text/plain": [
       "True"
      ]
     },
     "execution_count": 74,
     "metadata": {},
     "output_type": "execute_result"
    }
   ],
   "source": [
    "cv2.imwrite('hybrid.png', abs((highPassed+lowPassed)/2.0))"
   ]
  },
  {
   "cell_type": "code",
   "execution_count": 46,
   "id": "f487f3ec-f705-42e6-8430-8525462886a3",
   "metadata": {},
   "outputs": [
    {
     "data": {
      "text/plain": [
       "(768, 1024)"
      ]
     },
     "execution_count": 46,
     "metadata": {},
     "output_type": "execute_result"
    }
   ],
   "source": [
    "fourier_filter = makeGaussianFilter(n, m, sigma24, True)\n",
    "np.shape(fftshift(fft2(atticRoom)))"
   ]
  },
  {
   "cell_type": "code",
   "execution_count": 67,
   "id": "875f3a1a-be19-41a1-82da-cd7a85200400",
   "metadata": {},
   "outputs": [],
   "source": [
    "uint_img = np.array(abs(highPassed)).astype('uint8')\n",
    "grayImage = cv2.cvtColor(uint_img, cv2.COLOR_GRAY2BGR)"
   ]
  },
  {
   "cell_type": "code",
   "execution_count": 65,
   "id": "82cfc02a-21d8-461b-83a2-6c80d6235f33",
   "metadata": {},
   "outputs": [],
   "source": [
    "def convert_to_gray(img_mat):\n",
    "    img_mat = img_mat/np.max(img_mat)\n",
    "    uint_img = np.array(img_mat*255).astype('uint8')\n",
    "    grayImage = cv2.cvtColor(uint_img, cv2.COLOR_GRAY2BGR)\n",
    "    return grayImage"
   ]
  },
  {
   "cell_type": "code",
   "execution_count": 70,
   "id": "d0e8af20-2268-498f-8702-c35a1aa4a1ed",
   "metadata": {},
   "outputs": [
    {
     "data": {
      "text/plain": [
       "True"
      ]
     },
     "execution_count": 70,
     "metadata": {},
     "output_type": "execute_result"
    }
   ],
   "source": [
    "cv2.imwrite('notgrayImage.png', abs(highPassed))"
   ]
  },
  {
   "cell_type": "code",
   "execution_count": 78,
   "id": "29696677-85cf-4236-8063-bd62adbc2077",
   "metadata": {},
   "outputs": [],
   "source": [
    "test = filterDFT(bathroom, makeGaussianFilter(n, m, 100, True))\n",
    "show_image(convert_to_gray(abs(test/(1024*768))))"
   ]
  },
  {
   "cell_type": "code",
   "execution_count": null,
   "id": "9e63c1ea-834d-456b-848c-d2e518fc5837",
   "metadata": {},
   "outputs": [],
   "source": []
  }
 ],
 "metadata": {
  "kernelspec": {
   "display_name": "Python 3 (ipykernel)",
   "language": "python",
   "name": "python3"
  },
  "language_info": {
   "codemirror_mode": {
    "name": "ipython",
    "version": 3
   },
   "file_extension": ".py",
   "mimetype": "text/x-python",
   "name": "python",
   "nbconvert_exporter": "python",
   "pygments_lexer": "ipython3",
   "version": "3.8.8"
  }
 },
 "nbformat": 4,
 "nbformat_minor": 5
}
