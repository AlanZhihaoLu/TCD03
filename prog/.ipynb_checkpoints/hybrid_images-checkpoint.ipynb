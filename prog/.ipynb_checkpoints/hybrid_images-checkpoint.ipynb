{
 "cells": [
  {
   "cell_type": "code",
   "execution_count": 1,
   "id": "a76ded7c-9966-4383-a38f-5a516e6a2ebd",
   "metadata": {},
   "outputs": [],
   "source": [
    "import os\n",
    "import tkinter\n",
    "from tkinter import filedialog\n",
    "import numpy as np\n",
    "from numpy.fft import fft2, ifft2, fftshift, ifftshift\n",
    "from scipy import misc\n",
    "from scipy import ndimage\n",
    "import cv2\n",
    "import math"
   ]
  },
  {
   "cell_type": "code",
   "execution_count": 2,
   "id": "46a7c6f0-d0c2-49a2-9b2b-de324d299754",
   "metadata": {},
   "outputs": [],
   "source": [
    "# Define functions here\n",
    "def search_for_file_path(prompt):\n",
    "\n",
    "    root = tkinter.Tk()\n",
    "    root.withdraw()  # use to hide tkinter window\n",
    "    currdir = os.getcwd()\n",
    "    file_dir = filedialog.askdirectory(\n",
    "        parent=root,\n",
    "        initialdir=currdir,\n",
    "        title=prompt,\n",
    "        mustexist=True,\n",
    "    )\n",
    "\n",
    "    return file_dir"
   ]
  },
  {
   "cell_type": "code",
   "execution_count": 3,
   "id": "028d124a-bd41-45c9-a2e9-c4e6cfcc95a9",
   "metadata": {},
   "outputs": [],
   "source": [
    "img_dir = search_for_file_path('Select Images Folder')"
   ]
  },
  {
   "cell_type": "code",
   "execution_count": 4,
   "id": "3351cc57-72ec-4024-9229-1addd4f67b29",
   "metadata": {},
   "outputs": [],
   "source": [
    "imgs = os.listdir(img_dir)"
   ]
  },
  {
   "cell_type": "code",
   "execution_count": 5,
   "id": "6f5771af-309b-48ea-83ee-6ba57c3559b5",
   "metadata": {},
   "outputs": [],
   "source": [
    "atticRoom = cv2.imread(os.path.join(img_dir, imgs[0]),0)\n",
    "bathroom = cv2.imread(os.path.join(img_dir, imgs[1]),0)"
   ]
  },
  {
   "cell_type": "code",
   "execution_count": 6,
   "id": "c837381d-e373-44d1-b535-51d534c5f5a2",
   "metadata": {},
   "outputs": [],
   "source": [
    "def show_image(input_image):\n",
    "    cv2.imshow('Displaying Image...', input_image)\n",
    "    cv2.waitKey(0) \n",
    "    cv2.destroyAllWindows() "
   ]
  },
  {
   "cell_type": "code",
   "execution_count": 9,
   "id": "957b0082-fa1f-4498-af7d-155784968f17",
   "metadata": {},
   "outputs": [],
   "source": [
    "# define image parameters\n",
    "n,m = np.shape(atticRoom)\n",
    "numRows = n\n",
    "numCols = m\n",
    "\n",
    "# Calculate gaussian filter sigma by cycles/image cutoff (when amplitude gain = 0.5)\n",
    "def gaussian_filter_sigma(cycles_per_img_cutoff, amplitude_gain=0.5):\n",
    "    numer = -1.0*(cycles_per_img_cutoff**2)\n",
    "    denom = 2 * np.log(amplitude_gain)\n",
    "    return math.sqrt(numer/denom)\n",
    "\n",
    "sigma8 = gaussian_filter_sigma(8)\n",
    "sigma16 = gaussian_filter_sigma(16)\n",
    "sigma24 = gaussian_filter_sigma(24)"
   ]
  },
  {
   "cell_type": "code",
   "execution_count": 10,
   "id": "af348d27-e33c-4ea1-9159-a776b457d6c3",
   "metadata": {},
   "outputs": [],
   "source": [
    "# gaussian filter (in fourier space)\n",
    "def makeGaussianFilter(numRows, numCols, sigma, highPass=True):\n",
    "    centerI = int(numRows/2) + 1 if numRows % 2 == 1 else int(numRows/2)\n",
    "    centerJ = int(numCols/2) + 1 if numCols % 2 == 1 else int(numCols/2)\n",
    "    def gaussian(i,j):\n",
    "        coefficient = math.exp(-1.0 * ((i - centerI)**2 + (j - centerJ)**2) / (2 * sigma**2))\n",
    "        return 1 - coefficient if highPass else coefficient\n",
    " \n",
    "    return numpy.array([[gaussian(i,j) for j in range(numCols)] for i in range(numRows)])"
   ]
  },
  {
   "cell_type": "code",
   "execution_count": null,
   "id": "cf4cb9d8-9f34-4ac2-92fe-9ac7a35198f8",
   "metadata": {},
   "outputs": [],
   "source": [
    "def filterDFT(imageMatrix, filterMatrix):\n",
    "    shiftedDFT = fftshift(fft2(imageMatrix))\n",
    "    filteredDFT = shiftedDFT * filterMatrix\n",
    "    return ifft2(ifftshift(filteredDFT))"
   ]
  }
 ],
 "metadata": {
  "kernelspec": {
   "display_name": "Python 3 (ipykernel)",
   "language": "python",
   "name": "python3"
  },
  "language_info": {
   "codemirror_mode": {
    "name": "ipython",
    "version": 3
   },
   "file_extension": ".py",
   "mimetype": "text/x-python",
   "name": "python",
   "nbconvert_exporter": "python",
   "pygments_lexer": "ipython3",
   "version": "3.8.8"
  }
 },
 "nbformat": 4,
 "nbformat_minor": 5
}
