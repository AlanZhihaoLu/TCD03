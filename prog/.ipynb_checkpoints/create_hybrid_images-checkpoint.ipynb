{
 "cells": [
  {
   "cell_type": "code",
   "execution_count": 21,
   "id": "64407534-3b21-47fe-9b20-962fd34f9e77",
   "metadata": {},
   "outputs": [],
   "source": [
    "import os\n",
    "import tkinter\n",
    "from tkinter import filedialog\n",
    "import numpy as np\n",
    "from numpy.fft import fft2, ifft2, fftshift, ifftshift\n",
    "from scipy import misc\n",
    "from scipy import ndimage\n",
    "import cv2\n",
    "import math"
   ]
  },
  {
   "cell_type": "code",
   "execution_count": 3,
   "id": "7ac8c400-de08-4818-a365-64600f76b501",
   "metadata": {},
   "outputs": [],
   "source": [
    "# Define functions here\n",
    "def search_for_file_path(prompt):\n",
    "\n",
    "    root = tkinter.Tk()\n",
    "    root.withdraw()  # use to hide tkinter window\n",
    "    currdir = os.getcwd()\n",
    "    file_dir = filedialog.askdirectory(\n",
    "        parent=root,\n",
    "        initialdir=currdir,\n",
    "        title=prompt,\n",
    "        mustexist=True,\n",
    "    )\n",
    "\n",
    "    return file_dir"
   ]
  },
  {
   "cell_type": "code",
   "execution_count": 4,
   "id": "27753c88-1395-4151-b648-ecb1114d2477",
   "metadata": {},
   "outputs": [],
   "source": [
    "img_dir = search_for_file_path('Select Images Folder')"
   ]
  },
  {
   "cell_type": "code",
   "execution_count": 6,
   "id": "7010a51a-5826-472c-b125-b6261d0f1721",
   "metadata": {},
   "outputs": [],
   "source": [
    "imgs = os.listdir(img_dir)"
   ]
  },
  {
   "cell_type": "code",
   "execution_count": 122,
   "id": "0964a66a-fa21-47da-9b6b-2e97ab2ba56f",
   "metadata": {},
   "outputs": [],
   "source": [
    "atticRoom = os.path.join(img_dir, imgs[0])\n",
    "bathroom = os.path.join(img_dir, imgs[1])"
   ]
  },
  {
   "cell_type": "code",
   "execution_count": 199,
   "id": "f25a9fa6-b597-41ba-a199-d252e12c3f04",
   "metadata": {},
   "outputs": [],
   "source": [
    "# Get cutoff frequency\n",
    "cut_cycleimg = 8\n",
    "cut_cyclepx = cut_cycleimg/1024\n",
    "sigma = 1/(2*cut_cyclepx*math.pi)"
   ]
  },
  {
   "cell_type": "code",
   "execution_count": 183,
   "id": "49c69194-680b-47f8-8ae4-b15773e4f471",
   "metadata": {},
   "outputs": [
    {
     "ename": "TypeError",
     "evalue": "Can't convert object of type 'numpy.ndarray' to 'str' for 'filename'",
     "output_type": "error",
     "traceback": [
      "\u001b[1;31m---------------------------------------------------------------------------\u001b[0m",
      "\u001b[1;31mTypeError\u001b[0m                                 Traceback (most recent call last)",
      "\u001b[1;32m~\\AppData\\Local\\Temp/ipykernel_12756/2860561403.py\u001b[0m in \u001b[0;36m<module>\u001b[1;34m\u001b[0m\n\u001b[1;32m----> 1\u001b[1;33m \u001b[0matticRoom\u001b[0m \u001b[1;33m=\u001b[0m \u001b[0mcv2\u001b[0m\u001b[1;33m.\u001b[0m\u001b[0mimread\u001b[0m\u001b[1;33m(\u001b[0m\u001b[0matticRoom\u001b[0m\u001b[1;33m,\u001b[0m\u001b[1;36m0\u001b[0m\u001b[1;33m)\u001b[0m\u001b[1;33m\u001b[0m\u001b[1;33m\u001b[0m\u001b[0m\n\u001b[0m",
      "\u001b[1;31mTypeError\u001b[0m: Can't convert object of type 'numpy.ndarray' to 'str' for 'filename'"
     ]
    }
   ],
   "source": [
    "atticRoom = cv2.imread(atticRoom,0)"
   ]
  },
  {
   "cell_type": "code",
   "execution_count": 242,
   "id": "16d7dd78-07c2-4d29-9f96-b4c6e490908a",
   "metadata": {},
   "outputs": [],
   "source": [
    "sigma = 16"
   ]
  },
  {
   "cell_type": "code",
   "execution_count": 426,
   "id": "c9071d19-7f29-47f8-a76e-e8c64e12d38a",
   "metadata": {},
   "outputs": [],
   "source": [
    "# Using cv2.imshow() method \n",
    "# Displaying the image \n",
    "cv2.imshow('test', convert_to_gray(np.log(abs(shiftedDFT*output)+1)))\n",
    "\n",
    "#waits for user to press any key \n",
    "#(this is necessary to avoid Python kernel form crashing)\n",
    "cv2.waitKey(0) \n",
    "  \n",
    "#closing all open windows \n",
    "cv2.destroyAllWindows() "
   ]
  },
  {
   "cell_type": "code",
   "execution_count": 213,
   "id": "1024fe1f-3ce1-47f2-8f4d-b26d168fc838",
   "metadata": {},
   "outputs": [],
   "source": [
    "n,m = np.shape(atticRoom)"
   ]
  },
  {
   "cell_type": "code",
   "execution_count": 235,
   "id": "2e2df903-9ab4-4b84-b317-25d543be3290",
   "metadata": {},
   "outputs": [],
   "source": [
    "# make Gaussian filter \n",
    "numRows = n\n",
    "numCols = m\n",
    "centerI = int(numRows/2) + 1 if numRows % 2 == 1 else int(numRows/2)\n",
    "centerJ = int(numCols/2) + 1 if numCols % 2 == 1 else int(numCols/2)"
   ]
  },
  {
   "cell_type": "code",
   "execution_count": 247,
   "id": "e438a694-40ee-4892-99b2-c724ecc9d958",
   "metadata": {},
   "outputs": [],
   "source": [
    "def gaussian(i,j,sigma,highPass):\n",
    "    coefficient = math.exp(-1.0 * ((i - centerI)**2 + (j - centerJ)**2) / (2 * sigma**2))\n",
    "    return 1 - coefficient if highPass else coefficient"
   ]
  },
  {
   "cell_type": "code",
   "execution_count": 421,
   "id": "11c7f136-b4df-42ae-b291-946a931a4272",
   "metadata": {},
   "outputs": [
    {
     "data": {
      "text/plain": [
       "True"
      ]
     },
     "execution_count": 421,
     "metadata": {},
     "output_type": "execute_result"
    }
   ],
   "source": [
    "sigma = sigma24\n",
    "output = np.array([[gaussian(i,j,sigma,False) for j in range(numCols)] for i in range(numRows)])\n",
    "filteredDFT = shiftedDFT * output\n",
    "output2 = ifft2(ifftshift(filteredDFT))\n",
    "cv2.imwrite('test24.png', np.real(output2))"
   ]
  },
  {
   "cell_type": "code",
   "execution_count": 261,
   "id": "448800d8-f0fe-40d6-a06c-d939d60ae9d8",
   "metadata": {},
   "outputs": [],
   "source": [
    "test = abs(fftshift(fft2(output2)))"
   ]
  },
  {
   "cell_type": "code",
   "execution_count": 265,
   "id": "8955812d-a5cf-4237-9c58-0d147237a56d",
   "metadata": {},
   "outputs": [],
   "source": [
    "uint_img = np.array(test*255).astype('uint8')\n",
    "\n",
    "grayImage = cv2.cvtColor(uint_img, cv2.COLOR_GRAY2BGR)"
   ]
  },
  {
   "cell_type": "code",
   "execution_count": 284,
   "id": "d525172f-0c7e-4428-be7b-6dee7aa6daf2",
   "metadata": {},
   "outputs": [],
   "source": [
    "sigma=6.8\n",
    "output = np.array([[gaussian(i,j,sigma,False) for j in range(numCols)] for i in range(numRows)])"
   ]
  },
  {
   "cell_type": "code",
   "execution_count": 304,
   "id": "47083318-3923-4a81-b890-7ba71de5dda6",
   "metadata": {},
   "outputs": [
    {
     "data": {
      "text/plain": [
       "1.0"
      ]
     },
     "execution_count": 304,
     "metadata": {},
     "output_type": "execute_result"
    }
   ],
   "source": [
    "output[384][512]"
   ]
  },
  {
   "cell_type": "code",
   "execution_count": 298,
   "id": "d0726f19-c1a5-4d30-969a-9051540a8296",
   "metadata": {},
   "outputs": [],
   "source": [
    "# Calculate gaussian filter sigma by cycles/image cutoff (when amplitude gain = 0.5)\n",
    "def gaussian_filter_sigma(cycles_per_img_cutoff, amplitude_gain=0.5):\n",
    "    numer = -1.0*(cycles_per_img_cutoff**2)\n",
    "    denom = 2 * np.log(amplitude_gain)\n",
    "    return math.sqrt(numer/denom)\n",
    "\n",
    "sigma8 = gaussian_filter_sigma(8)\n",
    "sigma16 = gaussian_filter_sigma(16)\n",
    "sigma24 = gaussian_filter_sigma(24)"
   ]
  },
  {
   "cell_type": "code",
   "execution_count": 394,
   "id": "f67b46b8-5f48-4986-8c13-0e52bbccd523",
   "metadata": {},
   "outputs": [],
   "source": [
    "def convert_to_gray(img_mat):\n",
    "    img_mat = img_mat/np.max(img_mat)\n",
    "    uint_img = np.array(img_mat*255).astype('uint8')\n",
    "    grayImage = cv2.cvtColor(uint_img, cv2.COLOR_GRAY2BGR)\n",
    "    return grayImage"
   ]
  },
  {
   "cell_type": "code",
   "execution_count": 349,
   "id": "c67759c6-1784-4901-bde5-4b722eed6426",
   "metadata": {},
   "outputs": [],
   "source": [
    "uint_img = np.array(more_test*255).astype('uint8')\n",
    "\n",
    "grayImage = cv2.cvtColor(uint_img, cv2.COLOR_GRAY2BGR)"
   ]
  },
  {
   "cell_type": "code",
   "execution_count": 317,
   "id": "75f53f93-5afd-4477-9cd3-a2a27d93d449",
   "metadata": {},
   "outputs": [],
   "source": [
    "test = np.real(output2)\n",
    "more_test = abs(fftshift(fft2(test)))"
   ]
  },
  {
   "cell_type": "code",
   "execution_count": 348,
   "id": "87c085d1-c412-48fa-972c-b0ee30cbde54",
   "metadata": {},
   "outputs": [],
   "source": [
    "more_test = abs(filteredDFT)"
   ]
  },
  {
   "cell_type": "code",
   "execution_count": 398,
   "id": "c97b9ecf-caf0-42e2-82df-d3c7104cab25",
   "metadata": {},
   "outputs": [
    {
     "data": {
      "text/plain": [
       "array([189, 189, 189], dtype=uint8)"
      ]
     },
     "execution_count": 398,
     "metadata": {},
     "output_type": "execute_result"
    }
   ],
   "source": [
    "convert_to_gray(np.log(abs(shiftedDFT)))[384][4]"
   ]
  },
  {
   "cell_type": "code",
   "execution_count": 389,
   "id": "c14407b5-55be-4a62-b419-810823dd0bc6",
   "metadata": {},
   "outputs": [
    {
     "data": {
      "text/plain": [
       "array([1], dtype=uint8)"
      ]
     },
     "execution_count": 389,
     "metadata": {},
     "output_type": "execute_result"
    }
   ],
   "source": [
    "np.array([257]).astype('uint8')"
   ]
  },
  {
   "cell_type": "code",
   "execution_count": 393,
   "id": "09e52a14-048c-46c4-9078-bd7efef7aa08",
   "metadata": {},
   "outputs": [
    {
     "data": {
      "text/plain": [
       "array([[0.32525991, 0.27350558, 0.35514417, ..., 0.35515799, 0.35514417,\n",
       "        0.27350558],\n",
       "       [0.31195359, 0.38805002, 0.27388346, ..., 0.34851844, 0.31816483,\n",
       "        0.33590309],\n",
       "       [0.33920324, 0.34817273, 0.3579229 , ..., 0.35072745, 0.32528151,\n",
       "        0.3070025 ],\n",
       "       ...,\n",
       "       [0.35023415, 0.33442427, 0.35388969, ..., 0.39359037, 0.37382995,\n",
       "        0.30986295],\n",
       "       [0.33920324, 0.3070025 , 0.32528151, ..., 0.34820668, 0.3579229 ,\n",
       "        0.34817273],\n",
       "       [0.31195359, 0.33590309, 0.31816483, ..., 0.27179012, 0.27388346,\n",
       "        0.38805002]])"
      ]
     },
     "execution_count": 393,
     "metadata": {},
     "output_type": "execute_result"
    }
   ],
   "source": [
    "test = np.log(abs(shiftedDFT))\n",
    "test/np.max(test)"
   ]
  },
  {
   "cell_type": "code",
   "execution_count": 412,
   "id": "30c56b01-9311-4aa3-8e1e-7c639b017384",
   "metadata": {},
   "outputs": [
    {
     "data": {
      "text/plain": [
       "0.5"
      ]
     },
     "execution_count": 413,
     "metadata": {},
     "output_type": "execute_result"
    }
   ],
   "source": [
    "output[384][488]"
   ]
  }
 ],
 "metadata": {
  "kernelspec": {
   "display_name": "Python 3 (ipykernel)",
   "language": "python",
   "name": "python3"
  },
  "language_info": {
   "codemirror_mode": {
    "name": "ipython",
    "version": 3
   },
   "file_extension": ".py",
   "mimetype": "text/x-python",
   "name": "python",
   "nbconvert_exporter": "python",
   "pygments_lexer": "ipython3",
   "version": "3.8.8"
  }
 },
 "nbformat": 4,
 "nbformat_minor": 5
}
